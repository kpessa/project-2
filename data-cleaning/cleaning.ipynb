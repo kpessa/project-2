{
 "cells": [
  {
   "cell_type": "code",
   "execution_count": 2,
   "metadata": {},
   "outputs": [],
   "source": [
    "# Dependancies\n",
    "import pandas as pd\n",
    "import os\n",
    "import numpy as np\n",
    "import matplotlib.pyplot as plt\n",
    "\n",
    "# File load\n",
    "file1 = os.path.join('..', 'resources', '1-covid-data.csv')\n",
    "file2 = os.path.join('..', 'resources', '2-vulnerability-index.csv')\n",
    "file3 = os.path.join('..', 'resources', '3-median-income.csv')\n",
    "file4 = os.path.join('..', 'resources', '4-population.csv')\n",
    "file5 = os.path.join('..', 'resources', '5-uninsured-poor-health.csv')\n",
    "\n",
    "# File read\n",
    "covid_df = pd.read_csv(file1)\n",
    "vulnerability_df = pd.read_csv(file2)\n",
    "med_income_df = pd.read_csv(file3)\n",
    "population_df = pd.read_csv(file4)\n",
    "uninsured_df = pd.read_csv(file5)"
   ]
  },
  {
   "cell_type": "code",
   "execution_count": null,
   "metadata": {},
   "outputs": [],
   "source": []
  }
 ],
 "metadata": {
  "kernelspec": {
   "display_name": "Python 3",
   "language": "python",
   "name": "python3"
  },
  "language_info": {
   "codemirror_mode": {
    "name": "ipython",
    "version": 3
   },
   "file_extension": ".py",
   "mimetype": "text/x-python",
   "name": "python",
   "nbconvert_exporter": "python",
   "pygments_lexer": "ipython3",
   "version": "3.6.10"
  }
 },
 "nbformat": 4,
 "nbformat_minor": 4
}
