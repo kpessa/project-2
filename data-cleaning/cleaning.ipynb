{
 "cells": [
  {
   "cell_type": "code",
   "execution_count": 1,
   "metadata": {},
   "outputs": [],
   "source": [
    "# Dependancies\n",
    "import pandas as pd\n",
    "import os\n",
    "import numpy as np\n",
    "import matplotlib.pyplot as plt\n",
    "\n",
    "# File load\n",
    "file1 = os.path.join('..', 'resources', '1-covid-data.csv')\n",
    "file2 = os.path.join('..', 'resources', '2-vulnerability-index.csv')\n",
    "file3 = os.path.join('..', 'resources', '3-median-income.csv')\n",
    "file4 = os.path.join('..', 'resources', '4-population.csv')\n",
    "file5 = os.path.join('..', 'resources', '5-uninsured-poor-health.csv')\n",
    "\n",
    "# File read\n",
    "covid_df = pd.read_csv(file1)\n",
    "vulnerability_df = pd.read_csv(file2)\n",
    "med_income_df = pd.read_csv(file3)\n",
    "population_df = pd.read_csv(file4)\n",
    "uninsured_df = pd.read_csv(file5)"
   ]
  },
  {
   "cell_type": "code",
   "execution_count": 2,
   "metadata": {},
   "outputs": [
    {
     "data": {
      "text/plain": [
       "date      586302\n",
       "county    586302\n",
       "state     586302\n",
       "fips      580658\n",
       "cases     586302\n",
       "deaths    586302\n",
       "dtype: int64"
      ]
     },
     "execution_count": 2,
     "metadata": {},
     "output_type": "execute_result"
    }
   ],
   "source": [
    "c_df = covid_df\n",
    "c_df.count()"
   ]
  },
  {
   "cell_type": "code",
   "execution_count": 3,
   "metadata": {},
   "outputs": [
    {
     "data": {
      "text/plain": [
       "True"
      ]
     },
     "execution_count": 3,
     "metadata": {},
     "output_type": "execute_result"
    }
   ],
   "source": [
    "# Cleaning of covid data\n",
    "c_df = covid_df\n",
    "# Filter all rows relevant to last date of dataset - 9/30/2020\n",
    "c_df = c_df.loc[c_df['date'] == '9/30/2020']\n",
    "\n",
    "# Check for null values\n",
    "c_df.isnull().values.any()"
   ]
  },
  {
   "cell_type": "code",
   "execution_count": 4,
   "metadata": {},
   "outputs": [
    {
     "name": "stderr",
     "output_type": "stream",
     "text": [
      "C:\\Users\\szerp\\Anacoda3\\envs\\PythonData\\lib\\site-packages\\ipykernel_launcher.py:2: SettingWithCopyWarning: \n",
      "A value is trying to be set on a copy of a slice from a DataFrame.\n",
      "Try using .loc[row_indexer,col_indexer] = value instead\n",
      "\n",
      "See the caveats in the documentation: https://pandas.pydata.org/pandas-docs/stable/user_guide/indexing.html#returning-a-view-versus-a-copy\n",
      "  \n"
     ]
    }
   ],
   "source": [
    "# Fill missing cells with 0 in fips column\n",
    "c_df['fips'] = c_df['fips'].fillna(0)"
   ]
  },
  {
   "cell_type": "code",
   "execution_count": 5,
   "metadata": {},
   "outputs": [
    {
     "data": {
      "text/html": [
       "<div>\n",
       "<style scoped>\n",
       "    .dataframe tbody tr th:only-of-type {\n",
       "        vertical-align: middle;\n",
       "    }\n",
       "\n",
       "    .dataframe tbody tr th {\n",
       "        vertical-align: top;\n",
       "    }\n",
       "\n",
       "    .dataframe thead th {\n",
       "        text-align: right;\n",
       "    }\n",
       "</style>\n",
       "<table border=\"1\" class=\"dataframe\">\n",
       "  <thead>\n",
       "    <tr style=\"text-align: right;\">\n",
       "      <th></th>\n",
       "      <th>date</th>\n",
       "      <th>county</th>\n",
       "      <th>state</th>\n",
       "      <th>fips</th>\n",
       "      <th>cases</th>\n",
       "      <th>deaths</th>\n",
       "    </tr>\n",
       "  </thead>\n",
       "  <tbody>\n",
       "    <tr>\n",
       "      <th>583062</th>\n",
       "      <td>9/30/2020</td>\n",
       "      <td>Autauga</td>\n",
       "      <td>Alabama</td>\n",
       "      <td>1001.0</td>\n",
       "      <td>1791</td>\n",
       "      <td>27</td>\n",
       "    </tr>\n",
       "    <tr>\n",
       "      <th>583063</th>\n",
       "      <td>9/30/2020</td>\n",
       "      <td>Baldwin</td>\n",
       "      <td>Alabama</td>\n",
       "      <td>1003.0</td>\n",
       "      <td>5640</td>\n",
       "      <td>52</td>\n",
       "    </tr>\n",
       "    <tr>\n",
       "      <th>583064</th>\n",
       "      <td>9/30/2020</td>\n",
       "      <td>Barbour</td>\n",
       "      <td>Alabama</td>\n",
       "      <td>1005.0</td>\n",
       "      <td>896</td>\n",
       "      <td>7</td>\n",
       "    </tr>\n",
       "    <tr>\n",
       "      <th>583065</th>\n",
       "      <td>9/30/2020</td>\n",
       "      <td>Bibb</td>\n",
       "      <td>Alabama</td>\n",
       "      <td>1007.0</td>\n",
       "      <td>664</td>\n",
       "      <td>11</td>\n",
       "    </tr>\n",
       "    <tr>\n",
       "      <th>583066</th>\n",
       "      <td>9/30/2020</td>\n",
       "      <td>Blount</td>\n",
       "      <td>Alabama</td>\n",
       "      <td>1009.0</td>\n",
       "      <td>1629</td>\n",
       "      <td>15</td>\n",
       "    </tr>\n",
       "    <tr>\n",
       "      <th>...</th>\n",
       "      <td>...</td>\n",
       "      <td>...</td>\n",
       "      <td>...</td>\n",
       "      <td>...</td>\n",
       "      <td>...</td>\n",
       "      <td>...</td>\n",
       "    </tr>\n",
       "    <tr>\n",
       "      <th>586297</th>\n",
       "      <td>9/30/2020</td>\n",
       "      <td>Sweetwater</td>\n",
       "      <td>Wyoming</td>\n",
       "      <td>56037.0</td>\n",
       "      <td>339</td>\n",
       "      <td>2</td>\n",
       "    </tr>\n",
       "    <tr>\n",
       "      <th>586298</th>\n",
       "      <td>9/30/2020</td>\n",
       "      <td>Teton</td>\n",
       "      <td>Wyoming</td>\n",
       "      <td>56039.0</td>\n",
       "      <td>577</td>\n",
       "      <td>1</td>\n",
       "    </tr>\n",
       "    <tr>\n",
       "      <th>586299</th>\n",
       "      <td>9/30/2020</td>\n",
       "      <td>Uinta</td>\n",
       "      <td>Wyoming</td>\n",
       "      <td>56041.0</td>\n",
       "      <td>357</td>\n",
       "      <td>2</td>\n",
       "    </tr>\n",
       "    <tr>\n",
       "      <th>586300</th>\n",
       "      <td>9/30/2020</td>\n",
       "      <td>Washakie</td>\n",
       "      <td>Wyoming</td>\n",
       "      <td>56043.0</td>\n",
       "      <td>115</td>\n",
       "      <td>6</td>\n",
       "    </tr>\n",
       "    <tr>\n",
       "      <th>586301</th>\n",
       "      <td>9/30/2020</td>\n",
       "      <td>Weston</td>\n",
       "      <td>Wyoming</td>\n",
       "      <td>56045.0</td>\n",
       "      <td>39</td>\n",
       "      <td>0</td>\n",
       "    </tr>\n",
       "  </tbody>\n",
       "</table>\n",
       "<p>3240 rows × 6 columns</p>\n",
       "</div>"
      ],
      "text/plain": [
       "             date      county    state     fips  cases  deaths\n",
       "583062  9/30/2020     Autauga  Alabama   1001.0   1791      27\n",
       "583063  9/30/2020     Baldwin  Alabama   1003.0   5640      52\n",
       "583064  9/30/2020     Barbour  Alabama   1005.0    896       7\n",
       "583065  9/30/2020        Bibb  Alabama   1007.0    664      11\n",
       "583066  9/30/2020      Blount  Alabama   1009.0   1629      15\n",
       "...           ...         ...      ...      ...    ...     ...\n",
       "586297  9/30/2020  Sweetwater  Wyoming  56037.0    339       2\n",
       "586298  9/30/2020       Teton  Wyoming  56039.0    577       1\n",
       "586299  9/30/2020       Uinta  Wyoming  56041.0    357       2\n",
       "586300  9/30/2020    Washakie  Wyoming  56043.0    115       6\n",
       "586301  9/30/2020      Weston  Wyoming  56045.0     39       0\n",
       "\n",
       "[3240 rows x 6 columns]"
      ]
     },
     "execution_count": 5,
     "metadata": {},
     "output_type": "execute_result"
    }
   ],
   "source": [
    "# Drop Nan Values\n",
    "c_df = c_df.dropna()\n",
    "c_df"
   ]
  },
  {
   "cell_type": "code",
   "execution_count": 6,
   "metadata": {},
   "outputs": [
    {
     "data": {
      "text/html": [
       "<div>\n",
       "<style scoped>\n",
       "    .dataframe tbody tr th:only-of-type {\n",
       "        vertical-align: middle;\n",
       "    }\n",
       "\n",
       "    .dataframe tbody tr th {\n",
       "        vertical-align: top;\n",
       "    }\n",
       "\n",
       "    .dataframe thead th {\n",
       "        text-align: right;\n",
       "    }\n",
       "</style>\n",
       "<table border=\"1\" class=\"dataframe\">\n",
       "  <thead>\n",
       "    <tr style=\"text-align: right;\">\n",
       "      <th></th>\n",
       "      <th>date</th>\n",
       "      <th>county</th>\n",
       "      <th>state</th>\n",
       "      <th>fips</th>\n",
       "      <th>cases</th>\n",
       "      <th>deaths</th>\n",
       "    </tr>\n",
       "  </thead>\n",
       "  <tbody>\n",
       "    <tr>\n",
       "      <th>583062</th>\n",
       "      <td>9/30/2020</td>\n",
       "      <td>Autauga</td>\n",
       "      <td>Alabama</td>\n",
       "      <td>1001</td>\n",
       "      <td>1791</td>\n",
       "      <td>27</td>\n",
       "    </tr>\n",
       "    <tr>\n",
       "      <th>583063</th>\n",
       "      <td>9/30/2020</td>\n",
       "      <td>Baldwin</td>\n",
       "      <td>Alabama</td>\n",
       "      <td>1003</td>\n",
       "      <td>5640</td>\n",
       "      <td>52</td>\n",
       "    </tr>\n",
       "    <tr>\n",
       "      <th>583064</th>\n",
       "      <td>9/30/2020</td>\n",
       "      <td>Barbour</td>\n",
       "      <td>Alabama</td>\n",
       "      <td>1005</td>\n",
       "      <td>896</td>\n",
       "      <td>7</td>\n",
       "    </tr>\n",
       "    <tr>\n",
       "      <th>583065</th>\n",
       "      <td>9/30/2020</td>\n",
       "      <td>Bibb</td>\n",
       "      <td>Alabama</td>\n",
       "      <td>1007</td>\n",
       "      <td>664</td>\n",
       "      <td>11</td>\n",
       "    </tr>\n",
       "    <tr>\n",
       "      <th>583066</th>\n",
       "      <td>9/30/2020</td>\n",
       "      <td>Blount</td>\n",
       "      <td>Alabama</td>\n",
       "      <td>1009</td>\n",
       "      <td>1629</td>\n",
       "      <td>15</td>\n",
       "    </tr>\n",
       "    <tr>\n",
       "      <th>...</th>\n",
       "      <td>...</td>\n",
       "      <td>...</td>\n",
       "      <td>...</td>\n",
       "      <td>...</td>\n",
       "      <td>...</td>\n",
       "      <td>...</td>\n",
       "    </tr>\n",
       "    <tr>\n",
       "      <th>586297</th>\n",
       "      <td>9/30/2020</td>\n",
       "      <td>Sweetwater</td>\n",
       "      <td>Wyoming</td>\n",
       "      <td>56037</td>\n",
       "      <td>339</td>\n",
       "      <td>2</td>\n",
       "    </tr>\n",
       "    <tr>\n",
       "      <th>586298</th>\n",
       "      <td>9/30/2020</td>\n",
       "      <td>Teton</td>\n",
       "      <td>Wyoming</td>\n",
       "      <td>56039</td>\n",
       "      <td>577</td>\n",
       "      <td>1</td>\n",
       "    </tr>\n",
       "    <tr>\n",
       "      <th>586299</th>\n",
       "      <td>9/30/2020</td>\n",
       "      <td>Uinta</td>\n",
       "      <td>Wyoming</td>\n",
       "      <td>56041</td>\n",
       "      <td>357</td>\n",
       "      <td>2</td>\n",
       "    </tr>\n",
       "    <tr>\n",
       "      <th>586300</th>\n",
       "      <td>9/30/2020</td>\n",
       "      <td>Washakie</td>\n",
       "      <td>Wyoming</td>\n",
       "      <td>56043</td>\n",
       "      <td>115</td>\n",
       "      <td>6</td>\n",
       "    </tr>\n",
       "    <tr>\n",
       "      <th>586301</th>\n",
       "      <td>9/30/2020</td>\n",
       "      <td>Weston</td>\n",
       "      <td>Wyoming</td>\n",
       "      <td>56045</td>\n",
       "      <td>39</td>\n",
       "      <td>0</td>\n",
       "    </tr>\n",
       "  </tbody>\n",
       "</table>\n",
       "<p>3240 rows × 6 columns</p>\n",
       "</div>"
      ],
      "text/plain": [
       "             date      county    state   fips  cases  deaths\n",
       "583062  9/30/2020     Autauga  Alabama   1001   1791      27\n",
       "583063  9/30/2020     Baldwin  Alabama   1003   5640      52\n",
       "583064  9/30/2020     Barbour  Alabama   1005    896       7\n",
       "583065  9/30/2020        Bibb  Alabama   1007    664      11\n",
       "583066  9/30/2020      Blount  Alabama   1009   1629      15\n",
       "...           ...         ...      ...    ...    ...     ...\n",
       "586297  9/30/2020  Sweetwater  Wyoming  56037    339       2\n",
       "586298  9/30/2020       Teton  Wyoming  56039    577       1\n",
       "586299  9/30/2020       Uinta  Wyoming  56041    357       2\n",
       "586300  9/30/2020    Washakie  Wyoming  56043    115       6\n",
       "586301  9/30/2020      Weston  Wyoming  56045     39       0\n",
       "\n",
       "[3240 rows x 6 columns]"
      ]
     },
     "execution_count": 6,
     "metadata": {},
     "output_type": "execute_result"
    }
   ],
   "source": [
    "# Converting fips column to int \n",
    "c_df['fips'] = c_df['fips'].astype(int)\n",
    "\n",
    "c_df"
   ]
  },
  {
   "cell_type": "code",
   "execution_count": 7,
   "metadata": {},
   "outputs": [
    {
     "data": {
      "text/plain": [
       "False"
      ]
     },
     "execution_count": 7,
     "metadata": {},
     "output_type": "execute_result"
    }
   ],
   "source": [
    "# Cleaning of population data\n",
    "pop_df = population_df\n",
    "# Splitting county column into state and county\n",
    "pop_df['state'] = pop_df['county'].str.split(',').str[1]\n",
    "pop_df['county_'] = pop_df['county'].str.split(',').str[0]\n",
    "pop_df = pop_df.drop(['county'], axis=1)\n",
    "pop_df = pop_df.rename(columns = {'county_':'county'})\n",
    "\n",
    "# Removing unneeded characters\n",
    "pop_df['county'] = pop_df['county'].str.strip('.')\n",
    "pop_df['county'] = pop_df['county'].str.strip(' County')\n",
    "\n",
    "# Check for null values\n",
    "pop_df.isnull().values.any()"
   ]
  },
  {
   "cell_type": "code",
   "execution_count": 8,
   "metadata": {},
   "outputs": [
    {
     "data": {
      "text/plain": [
       "population    object\n",
       "state         object\n",
       "county        object\n",
       "dtype: object"
      ]
     },
     "execution_count": 8,
     "metadata": {},
     "output_type": "execute_result"
    }
   ],
   "source": [
    "# Final population DF\n",
    "pop_df.dtypes"
   ]
  },
  {
   "cell_type": "code",
   "execution_count": 9,
   "metadata": {},
   "outputs": [
    {
     "data": {
      "text/plain": [
       "True"
      ]
     },
     "execution_count": 9,
     "metadata": {},
     "output_type": "execute_result"
    }
   ],
   "source": [
    "# Cleaning vulnerability data\n",
    "v_df = vulnerability_df\n",
    "v_df = v_df.rename(columns = {'stateAbb': 'abbr',\n",
    "                              'theme1SocioeconomicStatus': 'socioeconomic status', \n",
    "                              'theme2HouseholdCompositionAndDisability':'household composition and disability',\n",
    "                              'THEME 3: \\nMinority Status & Language':'minority status and language',\n",
    "                              'THEME 4: \\nHousing Type & Transportation': 'housing type and transportation',\n",
    "                              'THEME 5: Epidemiological Factors': 'epidemiological factors',\n",
    "                              'THEME 6: Healthcare System Factors': 'healthcare system factors' ,\n",
    "                              'ccviScore': 'ccvi score'})\n",
    "\n",
    "# Check for null values\n",
    "v_df.isnull().values.any()"
   ]
  },
  {
   "cell_type": "code",
   "execution_count": 10,
   "metadata": {},
   "outputs": [
    {
     "data": {
      "text/plain": [
       "state                                   3141\n",
       "abbr                                    3141\n",
       "county                                  3141\n",
       "fips                                    3141\n",
       "socioeconomic status                    3141\n",
       "household composition and disability    3141\n",
       "minority status and language            3141\n",
       "housing type and transportation         3141\n",
       "epidemiological factors                 3141\n",
       "healthcare system factors               3141\n",
       "ccvi score                              3141\n",
       "dtype: int64"
      ]
     },
     "execution_count": 10,
     "metadata": {},
     "output_type": "execute_result"
    }
   ],
   "source": [
    "v_df.dropna(inplace = True)\n",
    "v_df.count()"
   ]
  },
  {
   "cell_type": "code",
   "execution_count": 11,
   "metadata": {},
   "outputs": [
    {
     "data": {
      "text/plain": [
       "state                                    object\n",
       "abbr                                     object\n",
       "county                                   object\n",
       "fips                                      int64\n",
       "socioeconomic status                    float64\n",
       "household composition and disability    float64\n",
       "minority status and language            float64\n",
       "housing type and transportation         float64\n",
       "epidemiological factors                 float64\n",
       "healthcare system factors               float64\n",
       "ccvi score                              float64\n",
       "dtype: object"
      ]
     },
     "execution_count": 11,
     "metadata": {},
     "output_type": "execute_result"
    }
   ],
   "source": [
    "# Final vulnerability DF\n",
    "v_df.dtypes"
   ]
  },
  {
   "cell_type": "code",
   "execution_count": 12,
   "metadata": {},
   "outputs": [
    {
     "data": {
      "text/plain": [
       "fips                   int64\n",
       "abbr                  object\n",
       "median-income-2018    object\n",
       "county                object\n",
       "dtype: object"
      ]
     },
     "execution_count": 12,
     "metadata": {},
     "output_type": "execute_result"
    }
   ],
   "source": [
    "# Cleaning median income data\n",
    "income_df = med_income_df\n",
    "\n",
    "# Splitting county column into state and county\n",
    "income_df['state'] = income_df['county'].str.split(',').str[1]\n",
    "income_df['county_'] = income_df['county'].str.split(',').str[0]\n",
    "income_df = income_df.drop(['county'], axis=1)\n",
    "income_df = income_df.rename(columns = {'county_':'county'})\n",
    "\n",
    "# Drop Nulls\n",
    "income_df.dropna(inplace = True)\n",
    "income_df.count()\n",
    "\n",
    "# Drop state column to prevent future merging conflict \n",
    "income_df  = income_df.drop(['state'], axis=1 )\n",
    "\n",
    "# Removing unneeded characters\n",
    "income_df['county'] = income_df ['county'].str.strip(' County')\n",
    "\n",
    "income_df.dtypes"
   ]
  },
  {
   "cell_type": "code",
   "execution_count": 13,
   "metadata": {},
   "outputs": [],
   "source": [
    "# pop_df.dropna(inplace = True)\n",
    "# pop_df.count()"
   ]
  },
  {
   "cell_type": "code",
   "execution_count": null,
   "metadata": {},
   "outputs": [],
   "source": []
  }
 ],
 "metadata": {
  "kernelspec": {
   "display_name": "Python 3",
   "language": "python",
   "name": "python3"
  },
  "language_info": {
   "codemirror_mode": {
    "name": "ipython",
    "version": 3
   },
   "file_extension": ".py",
   "mimetype": "text/x-python",
   "name": "python",
   "nbconvert_exporter": "python",
   "pygments_lexer": "ipython3",
   "version": "3.6.10"
  }
 },
 "nbformat": 4,
 "nbformat_minor": 4
}
